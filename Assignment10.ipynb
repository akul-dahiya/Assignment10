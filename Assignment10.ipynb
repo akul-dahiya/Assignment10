{
 "cells": [
  {
   "cell_type": "markdown",
   "id": "e4582704-e716-4cce-819c-c42cff5fae03",
   "metadata": {},
   "source": [
    "Q1. What is multithreading in python? why is it used? Name the module used to handle threads in python\n",
    "\n",
    "Ans.Multithreading refers to the concurrent execution of multiple threads within a single Python process. A thread is the smallest unit of a CPU's execution, and multithreading allows your Python program to perform multiple tasks concurrently, making better use of available resources.\n",
    "\n",
    "Python provides a built-in module called threading to handle threads. The threading module allows you to create, manage, and synchronize threads within your Python programs. It abstracts the underlying operating system thread management and provides a high-level interface for working with threads.\n",
    "\n",
    "Multithreading is Used:\n",
    "\n",
    " Multithreading can be used to create responsive user interfaces, ensuring that the application remains interactive even when performing CPU-bound tasks. It allows you to parallelize tasks, taking advantage of multi-core processors, and potentially speeding up CPU-intensive operations. Multithreading is useful for handling concurrent tasks, such as serving multiple clients simultaneously in a server application. Threads within the same process can share data and resources easily, making it useful for certain types of data processing."
   ]
  },
  {
   "cell_type": "markdown",
   "id": "9846334d-4298-42af-938e-9e8f2c511315",
   "metadata": {},
   "source": [
    "Q2 .why threading module used? write the use of the following functions\n",
    "1 activeCount()\n",
    "2 currentThread()\n",
    "3 enumerate()\n",
    "\n",
    "Ans.\n",
    "The threading module in Python is used for creating, managing, and working with threads in a Python program. It provides a high-level interface for working with threads, and it's especially useful when you need to perform concurrent tasks or manage multiple threads.The threading module in Python is used for creating, managing, and working with threads in a Python program. It provides a high-level interface for working with threads, and it's especially useful when you need to perform concurrent tasks or manage multiple threads.\n",
    "\n",
    "activeCount():\n",
    "\n",
    "activeCount() is a function in the threading module that returns the number of Thread objects currently alive.\n",
    "It's useful for monitoring the number of threads in your program at a given moment.\n",
    "\n",
    "\n",
    "currentThread():\n",
    "\n",
    "currentThread() is a function that returns the current Thread object representing the thread from which it's called.\n",
    "It's useful for accessing and inspecting the properties of the current thread.\n",
    "\n",
    "\n",
    "enumerate():\n",
    "\n",
    "enumerate() is a function that returns a list of all Thread objects currently alive.\n",
    "It allows you to inspect and iterate through all active threads in your program.\n"
   ]
  },
  {
   "cell_type": "markdown",
   "id": "ce1d6aeb-2816-424e-abe6-0b9da4765183",
   "metadata": {},
   "source": [
    "Q3 Explain the following functions\n",
    "1 run()\n",
    "2 start()\n",
    "3 join()\n",
    "4 isAlive()\n",
    "\n",
    "Ans.\n",
    "\n",
    "run():\n",
    "\n",
    "The run() method is a standard method in Python's threading.Thread class.\n",
    "It represents the entry point for the thread's activity or task.\n",
    "When you create a custom thread by subclassing threading.Thread, you typically override the run() method to define the code that the thread will execute when started.\n",
    "The run() method is automatically called when you call the start() method on a thread object.\n",
    "\n",
    "start():\n",
    "\n",
    "The start() method is used to initiate the execution of a thread by invoking its run() method.\n",
    "When you call start() on a thread object, it begins executing the code defined in the run() method concurrently with other threads in the program.\n",
    "It's essential to use start() to start threads, as calling run() directly will execute the code in the current thread, not in a separate thread.\n",
    "\n",
    "join():\n",
    "\n",
    "The join() method is used to wait for a thread to complete its execution before moving on with the main program.\n",
    "When you call join() on a thread, it blocks the program's execution until the thread being joined finishes its work.\n",
    "It's often used when you want to ensure that a thread has completed its task before proceeding further in the main program.\n",
    "\n",
    "isAlive():\n",
    "\n",
    "The isAlive() method is used to check if a thread is currently running or alive.\n",
    "It returns True if the thread is still executing and False if the thread has completed its task or has not been started.\n",
    "This method can be useful for checking the status of a thread before deciding whether to take further action."
   ]
  },
  {
   "cell_type": "markdown",
   "id": "4a508efc-254a-4dbb-951e-2af7319f3eb5",
   "metadata": {},
   "source": [
    "Q4 Write a python program to create two threads. Thread one must print the list of squares and thread\n",
    "two must print the list of cubes.\n",
    "\n",
    "Ans"
   ]
  },
  {
   "cell_type": "code",
   "execution_count": 6,
   "id": "b7f70257-6cdd-400d-9e94-8d3330dcc130",
   "metadata": {},
   "outputs": [
    {
     "name": "stdout",
     "output_type": "stream",
     "text": [
      "Square of 1 : 1\n",
      "Square of 2 : 4\n",
      "Square of 3 : 9\n",
      "Square of 4 : 16\n",
      "Square of 5 : 25\n",
      "Square of 6 : 36\n",
      "Cube of 1 : 1\n",
      "Cube of 2 : 8\n",
      "Cube of 3 : 27\n",
      "Cube of 4 : 64\n",
      "Cube of 5 : 125\n",
      "Cube of 6 : 216\n"
     ]
    }
   ],
   "source": [
    "import threading\n",
    "\n",
    "def find_square():\n",
    "    for i in range(1,7):\n",
    "        print(f'Square of {i} : {i**2}' )\n",
    "        \n",
    "        \n",
    "def find_Cube():\n",
    "    for i in range(1,7):\n",
    "        print(f'Cube of {i} : {i**3}' )\n",
    "        \n",
    "thread1 = threading.Thread(target = find_square)\n",
    "thread2 = threading.Thread(target = find_Cube)\n",
    "\n",
    "thread1.start()\n",
    "thread2.start()\n",
    "\n",
    "thread1.join()\n",
    "thread2.join()"
   ]
  },
  {
   "cell_type": "markdown",
   "id": "504d1d54-d13f-4a6a-b5c4-f7a78cded909",
   "metadata": {},
   "source": [
    "Q5. State advantages and disadvantages of multithreading\n",
    "\n",
    "Ans. Advantages:\n",
    "\n",
    "Multithreading can lead to improved performance, especially on multi-core processors, as it allows the execution of multiple tasks concurrently.\n",
    "This is particularly beneficial for CPU-bound tasks that can be parallelized.\n",
    "\n",
    "It ensures that long-running tasks don't block the main program's responsiveness.\n",
    "\n",
    "Threads within the same process can easily share data and resources, which can simplify the design of certain applications.\n",
    "Sharing data among threads is more efficient than inter-process communication (IPC) used in multiprocessing.\n",
    "\n",
    "Context switching between threads is typically more efficient than switching between processes in multiprocessing since threads share the same memory space.\n",
    "\n",
    "Disadvantages:\n",
    "\n",
    "Multithreaded code can be complex and difficult to design, implement, and debug. It introduces synchronization issues and potential race conditions.\n",
    "Debugging multithreaded programs can be challenging due to non-deterministic behavior.\n",
    "\n",
    "When multiple threads access shared resources concurrently, synchronization mechanisms like locks, semaphores, and conditions are needed to prevent data conflicts and race conditions.\n",
    "This synchronization overhead can reduce the performance gain from multithreading.\n",
    "\n",
    "Debugging multithreaded programs can be challenging because issues like race conditions may not be easily reproducible or predictable.\n",
    "Thread-related bugs can be difficult to identify and fix.\n",
    "\n",
    "\n",
    "Ensuring thread safety in multithreaded code requires careful design and coding practices.\n",
    "Failing to make code thread-safe can lead to data corruption and unexpected behavior.\n",
    "\n"
   ]
  },
  {
   "cell_type": "markdown",
   "id": "a1eeecf4-80bd-48df-92ff-0a7ef06886ad",
   "metadata": {},
   "source": [
    "Q6. Explain deadlocks and race conditions."
   ]
  }
 ],
 "metadata": {
  "kernelspec": {
   "display_name": "Python 3 (ipykernel)",
   "language": "python",
   "name": "python3"
  },
  "language_info": {
   "codemirror_mode": {
    "name": "ipython",
    "version": 3
   },
   "file_extension": ".py",
   "mimetype": "text/x-python",
   "name": "python",
   "nbconvert_exporter": "python",
   "pygments_lexer": "ipython3",
   "version": "3.10.8"
  }
 },
 "nbformat": 4,
 "nbformat_minor": 5
}
